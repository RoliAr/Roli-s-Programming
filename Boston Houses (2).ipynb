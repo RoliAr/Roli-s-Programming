{
 "cells": [
  {
   "cell_type": "markdown",
   "id": "8b850b86",
   "metadata": {},
   "source": [
    "We imported several packages: pandas (for data manipulation), numpy (for numerical computing), matplotlib.pyplot (for plotting) ,seaborn (for more advanced plotting), sklearn.preprocessing (for preprocessing data), statsmodels.api and ,statsmodels.formula.api (for statistical modeling), datetime (for working with dates), statsmodels.tsa.statespace.sarimax (for time series analysis), sklearn.linear_model (for linear regression analysis)\n",
    "\n",
    "It also sets the seaborn style as the default, specifies to display the plots inline, and makes sure that statsmodels.formula.api uses pandas dataframes in its formulas."
   ]
  },
  {
   "cell_type": "code",
   "execution_count": 3,
   "id": "6749a913",
   "metadata": {},
   "outputs": [],
   "source": [
    "import pandas as pd\n",
    "import numpy as np\n",
    "import matplotlib.pyplot as plt\n",
    "import seaborn as sns\n",
    "from sklearn.preprocessing import OneHotEncoder\n",
    "sns.set()\n",
    "%matplotlib inline\n",
    "import statsmodels.api as sm\n",
    "import statsmodels.formula.api as smf\n",
    "from datetime import datetime\n",
    "from statsmodels.tsa.statespace.sarimax import SARIMAX\n",
    "from sklearn.linear_model import LinearRegression\n",
    "from sklearn.preprocessing import LabelEncoder\n",
    "\n",
    "import matplotlib.pyplot as plt\n",
    "from datetime import datetime\n",
    "\n",
    "import pandas as pd\n",
    "from sklearn.linear_model import LinearRegression"
   ]
  },
  {
   "cell_type": "raw",
   "id": "1d384864",
   "metadata": {},
   "source": [
    "The code imports the required packages and reads a csv file named \"HV_City.csv\" into a Pandas DataFrame called \"df\"."
   ]
  },
  {
   "cell_type": "code",
   "execution_count": 4,
   "id": "844ced3f",
   "metadata": {},
   "outputs": [],
   "source": [
    "df= pd.read_csv(\"C:/Users/ROEYE/OneDrive/Documents/City_House Prices.csv\")"
   ]
  },
  {
   "cell_type": "code",
   "execution_count": 5,
   "id": "d4c277ff",
   "metadata": {},
   "outputs": [],
   "source": [
    "#MERGE ALL DATES TO A SINGLE COLUMN CALLED DATE\n",
    "\n",
    "\n",
    "# select rows\n",
    "selected_rows = df.loc[[0,26], df.columns[8:285]]\n",
    "\n",
    "# select the desired data\n",
    "df_selected = df.iloc[26, 8:285].to_frame().T\n",
    "\n",
    "# Transpose the dataframe and reset the index\n",
    "df_transposed = df_selected.T.reset_index()\n",
    "\n",
    "# Rename columns\n",
    "df_transposed.columns = ['Date', 'Price']\n",
    "\n",
    "# Convert the first column to datetime format\n",
    "df_transposed['Date'] = pd.to_datetime(df_transposed['Date'])\n",
    "\n",
    "# assign the result to a new data frame\n",
    "Boston_df = df_transposed\n"
   ]
  },
  {
   "cell_type": "code",
   "execution_count": 6,
   "id": "af379257",
   "metadata": {},
   "outputs": [
    {
     "data": {
      "text/plain": [
       "count        276.0\n",
       "unique       275.0\n",
       "top       356869.0\n",
       "freq           2.0\n",
       "Name: Price, dtype: float64"
      ]
     },
     "execution_count": 6,
     "metadata": {},
     "output_type": "execute_result"
    }
   ],
   "source": [
    "#SOME STATISTICS \n",
    "\n",
    "#Get a decription of the statistics of the prices\n",
    "Boston_df[\"Price\"].describe()"
   ]
  },
  {
   "cell_type": "code",
   "execution_count": 7,
   "id": "47ac40db",
   "metadata": {},
   "outputs": [
    {
     "data": {
      "text/plain": [
       "(276, 2)"
      ]
     },
     "execution_count": 7,
     "metadata": {},
     "output_type": "execute_result"
    }
   ],
   "source": [
    "#Number of rows and columns in the dataframe \n",
    "Boston_df.shape"
   ]
  },
  {
   "cell_type": "code",
   "execution_count": 8,
   "id": "03451b7b",
   "metadata": {},
   "outputs": [
    {
     "data": {
      "image/png": "[encoded data removed]",
      "text/plain": [
       "<Figure size 640x480 with 1 Axes>"
      ]
     },
     "metadata": {},
     "output_type": "display_data"
    }
   ],
   "source": [
    "Boston_df['Date'] = pd.to_datetime(Boston_df['Date'])\n",
    "Boston_df.plot(x='Date', y='Price', kind='line')\n",
    "plt.show()"
   ]
  },
  {
   "cell_type": "code",
   "execution_count": 9,
   "id": "0fcd4b43",
   "metadata": {},
   "outputs": [],
   "source": [
    "Boston_df['Price'] = pd.to_numeric(Boston_df['Price'], errors='coerce')"
   ]
  },
  {
   "cell_type": "raw",
   "id": "2fd287c7",
   "metadata": {},
   "source": [
    "This following code is fitting a linear regression model on the \"Date\" and \"Price\" columns of the Boston_df dataframe.\n",
    "\n",
    "The \"Date\" column is first converted to a numpy array of shape (-1, 1) using the .values.reshape(-1, 1) method. This means that it is transformed from a 1D array of shape (n,) to a 2D array of shape (n, 1), where n is the number of rows in the dataframe. This is required because scikit-learn's linear regression expects the input data to be in 2D form, with each row representing a sample and each column representing a feature.\n",
    "\n",
    "The \"Price\" column is then converted to a numpy array using the .values method. This is because the target variable (i.e., the response or dependent variable) should also be in numpy array format.\n",
    "\n",
    "Finally, the LinearRegression class from scikit-learn's linear_model module is imported and a linear regression model is fit to the data using the fit method. The input data X and target y are passed as arguments to this method."
   ]
  },
  {
   "cell_type": "code",
   "execution_count": 13,
   "id": "500491a6",
   "metadata": {},
   "outputs": [],
   "source": [
    "# Convert the Date column to Categorical\n",
    "Boston_df['Date'] = pd.Categorical(Boston_df['Date'])\n",
    "\n",
    "# Fit your linear regression model using Patsy\n",
    "import patsy\n",
    "y, X = patsy.dmatrices(\"Price ~ Date\", data=Boston_df, return_type=\"dataframe\")"
   ]
  },
  {
   "cell_type": "code",
   "execution_count": 16,
   "id": "d87c94a8",
   "metadata": {},
   "outputs": [],
   "source": [
    "\n",
    "\n",
    "Boston_df[\"Date\"] = pd.Categorical(Boston_df[\"Date\"])\n",
    "Boston_df[\"Date\"] = Boston_df[\"Date\"].cat.codes\n",
    "\n",
    "X = Boston_df.iloc[:, :-1].values\n",
    "y = Boston_df.iloc[:, -1].values\n",
    "from sklearn.model_selection import train_test_split\n",
    "# Splitting the data into training and test sets\n",
    "X_train, X_test, y_train, y_test = train_test_split(X, y, test_size=0.2, random_state=0)\n"
   ]
  },
  {
   "cell_type": "code",
   "execution_count": 19,
   "id": "f71399f9",
   "metadata": {},
   "outputs": [
    {
     "data": {
      "text/plain": [
       "LinearRegression()"
      ]
     },
     "execution_count": 19,
     "metadata": {},
     "output_type": "execute_result"
    }
   ],
   "source": [
    "reg = LinearRegression()\n",
    "\n",
    "#print model summary\n",
    "#print(Reg.summary())\n",
    "\n",
    "# fit the model to the training data\n",
    "reg.fit(X_train, y_train)\n",
    "# initialize the model\n",
    "reg = LinearRegression()\n",
    "\n",
    "# fit the model to the training data\n",
    "reg.fit(X_train, y_train)"
   ]
  },
  {
   "cell_type": "code",
   "execution_count": 20,
   "id": "4363ef9c",
   "metadata": {},
   "outputs": [
    {
     "name": "stdout",
     "output_type": "stream",
     "text": [
      "slope: [1465.21294605]\n",
      "intercept: 245064.09897025852\n"
     ]
    }
   ],
   "source": [
    "#Get Slope\n",
    "slope = reg.coef_\n",
    "intercept = reg.intercept_\n",
    "print(\"slope:\",slope)\n",
    "print(\"intercept:\",intercept)"
   ]
  },
  {
   "cell_type": "code",
   "execution_count": 27,
   "id": "cb8efc77",
   "metadata": {
    "scrolled": true
   },
   "outputs": [
    {
     "name": "stdout",
     "output_type": "stream",
     "text": [
      "Prediction of day number  120 after 31-12-2022 is: 823823.2126586412\n"
     ]
    },
    {
     "name": "stderr",
     "output_type": "stream",
     "text": [
      "C:\\Users\\ROEYE\\anaconda3\\lib\\site-packages\\sklearn\\base.py:443: UserWarning: X has feature names, but LinearRegression was fitted without feature names\n",
      "  warnings.warn(\n"
     ]
    }
   ],
   "source": [
    "# Use the model to make a prediction on the to any date after 31-12-2022\n",
    "number_days_after_last_date=120\n",
    "\n",
    "\n",
    "day_predict= [Boston_df[\"Date\"].max() + number_days_after_last_date]#1 day after the last day in the dataset \n",
    "\n",
    "new_date = pd.DataFrame({\"Date_Code\": day_predict})\n",
    "\n",
    "prediction = reg.predict(new_date)\n",
    "\n",
    "print(\"Prediction of day number \",number_days_after_last_date, \"after 31-12-2022 is:\", prediction[0])"
   ]
  }
 ],
 "metadata": {
  "kernelspec": {
   "display_name": "Python 3 (ipykernel)",
   "language": "python",
   "name": "python3"
  },
  "language_info": {
   "codemirror_mode": {
    "name": "ipython",
    "version": 3
   },
   "file_extension": ".py",
   "mimetype": "text/x-python",
   "name": "python",
   "nbconvert_exporter": "python",
   "pygments_lexer": "ipython3",
   "version": "3.9.13"
  }
 },
 "nbformat": 4,
 "nbformat_minor": 5
}
